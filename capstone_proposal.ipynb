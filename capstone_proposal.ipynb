{
 "cells": [
  {
   "cell_type": "markdown",
   "metadata": {},
   "source": [
    "# Springboard 3.4 - Capstone Project Proposal\n",
    "\n",
    "1.\tWhat is the problem you want to solve? <br>\n",
    "I want to be able to analyze and visualize sales data to accurately benchmark current year performance to historical performance.<br><br>\n",
    "\n",
    "2.\tWho is your client and why do they care about this problem? In other words, what will your client DO or DECIDE based on your analysis that they wouldn’t have otherwise?<br>\n",
    "My client would be the sales organization for the company. Better understanding sales performance of the group will allow management to more accurately forecast future sales and benchmark individual performance. They care about this problem because it is difficult to benchmark individual contributor performance without an accurate visual and analysis tool. Based on this data, the company would make more informed personnel and strategic decisions.<br><br>\n",
    "\n",
    "3.\tWhat data are you going to use for this? How will you acquire this data?<br>\n",
    "I am given access to about 35 years’ of historic sales data across two database systems.<br><br>\n",
    "\n",
    "4.\tIn brief, outline your approach to solving this problem (knowing that this might change later).<br>\n",
    "    1.\tDownload files in CSV format<br>\n",
    "    2.\tOrganize each file with common columns Date, Country, and Value, and merge the two using dataframes and pandas<br>\n",
    "    3.\tVisualize the data using a popular Python plotting library<br>\n",
    "    4.\tUse machine learning methods and inferential statistics to more accurately benchmark sales performance and forecast future sales<br><br>\n",
    "    \n",
    "5.\tWhat are your deliverables? Typically, this would include code, along with a paper and/or a slide deck.<br>\n",
    "    1.\tA one page document with the following outputs:<br>\n",
    "        i.\tEstimated sales forecasts for 2019 and 2020 assisted by machine learning methods<br>\n",
    "        ii.\tExpected individual sales performance contributions by region<br>\n",
    "    2.\tA slide deck summarizing the steps taken to generate the outputs in (1) and explaining the rationale<br>\n",
    "    3.\tThe code<br>\n"
   ]
  },
  {
   "cell_type": "code",
   "execution_count": null,
   "metadata": {},
   "outputs": [],
   "source": []
  }
 ],
 "metadata": {
  "kernelspec": {
   "display_name": "Python 3",
   "language": "python",
   "name": "python3"
  },
  "language_info": {
   "codemirror_mode": {
    "name": "ipython",
    "version": 3
   },
   "file_extension": ".py",
   "mimetype": "text/x-python",
   "name": "python",
   "nbconvert_exporter": "python",
   "pygments_lexer": "ipython3",
   "version": "3.7.1"
  }
 },
 "nbformat": 4,
 "nbformat_minor": 2
}
